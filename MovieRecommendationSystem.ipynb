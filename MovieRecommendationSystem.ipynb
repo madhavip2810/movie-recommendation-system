{
 "cells": [
  {
   "cell_type": "code",
   "execution_count": 36,
   "id": "26d18a36-064d-4595-8b86-6feeb6c518d9",
   "metadata": {},
   "outputs": [
    {
     "name": "stdout",
     "output_type": "stream",
     "text": [
      "Movies Dataset:\n",
      "   movieId                               title  \\\n",
      "0        1                    Toy Story (1995)   \n",
      "1        2                      Jumanji (1995)   \n",
      "2        3             Grumpier Old Men (1995)   \n",
      "3        4            Waiting to Exhale (1995)   \n",
      "4        5  Father of the Bride Part II (1995)   \n",
      "\n",
      "                                        genres  \n",
      "0  Adventure|Animation|Children|Comedy|Fantasy  \n",
      "1                   Adventure|Children|Fantasy  \n",
      "2                               Comedy|Romance  \n",
      "3                         Comedy|Drama|Romance  \n",
      "4                                       Comedy  \n",
      "\n",
      "Ratings Dataset:\n",
      "   userId  movieId  rating  timestamp\n",
      "0       1        1       4  964982703\n",
      "1       1        3       4  964981247\n",
      "2       1        6       4  964982224\n",
      "3       1       47       5  964983815\n",
      "4       1       50       5  964982931\n"
     ]
    }
   ],
   "source": [
    "import pandas as pd\n",
    "\n",
    "# File paths\n",
    "movies_path = '/Users/madhaviraval/Downloads/movies.csv'\n",
    "ratings_path = '/Users/madhaviraval/Downloads/ratings.csv'\n",
    "\n",
    "# Load datasets\n",
    "movies = pd.read_csv(movies_path)\n",
    "ratings = pd.read_csv(ratings_path)\n",
    "\n",
    "# Display first few rows of each dataset\n",
    "print(\"Movies Dataset:\")\n",
    "print(movies.head())\n",
    "\n",
    "print(\"\\nRatings Dataset:\")\n",
    "print(ratings.head())\n"
   ]
  },
  {
   "cell_type": "code",
   "execution_count": 42,
   "id": "3e309b3f-d30d-454d-a899-723e17374cfd",
   "metadata": {},
   "outputs": [],
   "source": [
    "# Create user-item matrix\n",
    "user_item_matrix = ratings.pivot_table(index='userId', columns='movieId', values='rating')\n",
    "user_item_matrix_filled = user_item_matrix.fillna(0)\n"
   ]
  },
  {
   "cell_type": "code",
   "execution_count": 44,
   "id": "346b2bcc-2331-4334-8a53-a6fdb4ce7ec5",
   "metadata": {},
   "outputs": [
    {
     "name": "stdout",
     "output_type": "stream",
     "text": [
      "Number of features (movies): 7\n"
     ]
    }
   ],
   "source": [
    "# Determine number of features\n",
    "n_features = user_item_matrix_filled.shape[1]\n",
    "print(f\"Number of features (movies): {n_features}\")\n"
   ]
  },
  {
   "cell_type": "code",
   "execution_count": 46,
   "id": "fac3bf12-8842-4950-bfed-372be651c2d5",
   "metadata": {},
   "outputs": [
    {
     "name": "stdout",
     "output_type": "stream",
     "text": [
      "Using n_components = 7\n"
     ]
    }
   ],
   "source": [
    "# Adjust n_components\n",
    "n_components = min(50, n_features)\n",
    "print(f\"Using n_components = {n_components}\")\n"
   ]
  },
  {
   "cell_type": "code",
   "execution_count": 48,
   "id": "f7d83242-ed71-4fe1-972d-06b48ce7fbc7",
   "metadata": {},
   "outputs": [
    {
     "name": "stdout",
     "output_type": "stream",
     "text": [
      "Shape of Reduced Matrix: (2, 2)\n"
     ]
    }
   ],
   "source": [
    "# Perform SVD\n",
    "svd = TruncatedSVD(n_components=n_components, random_state=42)\n",
    "matrix_reduced = svd.fit_transform(user_item_matrix_filled)\n",
    "print(f\"Shape of Reduced Matrix: {matrix_reduced.shape}\")\n"
   ]
  },
  {
   "cell_type": "code",
   "execution_count": 50,
   "id": "0c769923-d623-4e53-aae1-c8e22dd17fcb",
   "metadata": {},
   "outputs": [],
   "source": [
    "# Calculate similarity matrix\n",
    "similarity_matrix = cosine_similarity(matrix_reduced)\n"
   ]
  },
  {
   "cell_type": "code",
   "execution_count": 52,
   "id": "1522af4e-c8a9-41fe-8dd8-ef0871a62ea0",
   "metadata": {},
   "outputs": [],
   "source": [
    "# Function to recommend movies\n",
    "def recommend_movies(movie_title, movies_df, similarity_matrix, n_recommendations=5):\n",
    "    # Find movie index\n",
    "    try:\n",
    "        movie_idx = movies_df[movies_df['title'] == movie_title].index[0]\n",
    "    except IndexError:\n",
    "        return f\"Movie '{movie_title}' not found in dataset.\"\n",
    "    \n",
    "    # Get similarity scores\n",
    "    similarity_scores = list(enumerate(similarity_matrix[movie_idx]))\n",
    "    similarity_scores = sorted(similarity_scores, key=lambda x: x[1], reverse=True)\n",
    "    \n",
    "    # Get top recommendations\n",
    "    top_recommendations = [movies_df.iloc[i[0]]['title'] for i in similarity_scores[1:n_recommendations + 1]]\n",
    "    return top_recommendations\n"
   ]
  },
  {
   "cell_type": "code",
   "execution_count": 54,
   "id": "96b153dd-b103-4598-89ee-db33f6bbc2c9",
   "metadata": {
    "scrolled": true
   },
   "outputs": [
    {
     "name": "stdout",
     "output_type": "stream",
     "text": [
      "Movies recommended for 'Toy Story (1995)':\n",
      "1. Jumanji (1995)\n"
     ]
    }
   ],
   "source": [
    "# Example Usage\n",
    "movie_name = \"Toy Story (1995)\"  # Replace with a movie title from your dataset\n",
    "recommended_movies = recommend_movies(movie_name, movies, similarity_matrix)\n",
    "\n",
    "print(f\"Movies recommended for '{movie_name}':\")\n",
    "for idx, movie in enumerate(recommended_movies, 1):\n",
    "    print(f\"{idx}. {movie}\")"
   ]
  },
  {
   "cell_type": "code",
   "execution_count": null,
   "id": "48b540ca-f0a0-47fa-b896-092fcc99d69a",
   "metadata": {},
   "outputs": [],
   "source": []
  },
  {
   "cell_type": "code",
   "execution_count": null,
   "id": "c0ef9671-74ba-4bcd-b19b-283c24720fd7",
   "metadata": {},
   "outputs": [],
   "source": []
  },
  {
   "cell_type": "code",
   "execution_count": 68,
   "id": "27c42615-9b17-4e1e-a809-b4cf7296a8aa",
   "metadata": {},
   "outputs": [],
   "source": [
    "import pandas as pd\n",
    "import numpy as np\n",
    "from sklearn.model_selection import train_test_split\n",
    "from sklearn.metrics import mean_squared_error\n",
    "from surprise import SVD\n",
    "from surprise import Dataset\n",
    "from surprise.model_selection import cross_validate\n",
    "from surprise.model_selection import train_test_split as surprise_train_test_split\n",
    "from surprise.dataset import Reader"
   ]
  },
  {
   "cell_type": "code",
   "execution_count": 70,
   "id": "d97a8025-141e-4ad7-b533-bb9a9b074005",
   "metadata": {},
   "outputs": [
    {
     "name": "stdout",
     "output_type": "stream",
     "text": [
      "Movies dataset loaded:\n",
      "   movieId                               title  \\\n",
      "0        1                    Toy Story (1995)   \n",
      "1        2                      Jumanji (1995)   \n",
      "2        3             Grumpier Old Men (1995)   \n",
      "3        4            Waiting to Exhale (1995)   \n",
      "4        5  Father of the Bride Part II (1995)   \n",
      "\n",
      "                                        genres  \n",
      "0  Adventure|Animation|Children|Comedy|Fantasy  \n",
      "1                   Adventure|Children|Fantasy  \n",
      "2                               Comedy|Romance  \n",
      "3                         Comedy|Drama|Romance  \n",
      "4                                       Comedy  \n",
      "Ratings dataset loaded:\n",
      "   userId  movieId  rating  timestamp\n",
      "0       1        1       4  964982703\n",
      "1       1        3       4  964981247\n",
      "2       1        6       4  964982224\n",
      "3       1       47       5  964983815\n",
      "4       1       50       5  964982931\n"
     ]
    }
   ],
   "source": [
    "# Step 1: Load datasets\n",
    "movies_path = \"/Users/madhaviraval/Downloads/movies.csv\"\n",
    "ratings_path = \"/Users/madhaviraval/Downloads/ratings.csv\"\n",
    "\n",
    "movies = pd.read_csv(movies_path)\n",
    "ratings = pd.read_csv(ratings_path)\n",
    "\n",
    "print(\"Movies dataset loaded:\")\n",
    "print(movies.head())\n",
    "\n",
    "print(\"Ratings dataset loaded:\")\n",
    "print(ratings.head())"
   ]
  },
  {
   "cell_type": "code",
   "execution_count": 72,
   "id": "40fd758f-2372-4a96-b438-af141f3aec11",
   "metadata": {},
   "outputs": [
    {
     "name": "stdout",
     "output_type": "stream",
     "text": [
      "Preprocessing the datasets...\n",
      "Missing values in movies: 0\n",
      "Missing values in ratings: 0\n",
      "Merged dataset preview:\n",
      "   userId  movieId  rating  timestamp                    title  \\\n",
      "0       1        1       4  964982703         Toy Story (1995)   \n",
      "1       1        3       4  964981247  Grumpier Old Men (1995)   \n",
      "2       1        6       4  964982224              Heat (1995)   \n",
      "3       2        1       5  964982703         Toy Story (1995)   \n",
      "4       2       10       4  964981247         GoldenEye (1995)   \n",
      "\n",
      "                                        genres  \n",
      "0  Adventure|Animation|Children|Comedy|Fantasy  \n",
      "1                               Comedy|Romance  \n",
      "2                        Action|Crime|Thriller  \n",
      "3  Adventure|Animation|Children|Comedy|Fantasy  \n",
      "4                    Action|Adventure|Thriller  \n"
     ]
    }
   ],
   "source": [
    "# Step 2: Preprocess data\n",
    "print(\"Preprocessing the datasets...\")\n",
    "\n",
    "# Check for missing values\n",
    "print(\"Missing values in movies:\", movies.isnull().sum().sum())\n",
    "print(\"Missing values in ratings:\", ratings.isnull().sum().sum())\n",
    "\n",
    "# Merge movies and ratings\n",
    "data = pd.merge(ratings, movies, on='movieId')\n",
    "print(\"Merged dataset preview:\")\n",
    "print(data.head())"
   ]
  },
  {
   "cell_type": "code",
   "execution_count": 74,
   "id": "e588a80a-7946-4ff3-8e73-1ff3dba85df7",
   "metadata": {},
   "outputs": [
    {
     "name": "stdout",
     "output_type": "stream",
     "text": [
      "Preparing data for collaborative filtering...\n"
     ]
    }
   ],
   "source": [
    "# Step 3: Prepare data for collaborative filtering\n",
    "print(\"Preparing data for collaborative filtering...\")\n",
    "reader = Reader(rating_scale=(data['rating'].min(), data['rating'].max()))\n",
    "data_surprise = Dataset.load_from_df(data[['userId', 'movieId', 'rating']], reader)\n",
    "\n",
    "# Split data into train and test sets\n",
    "trainset, testset = surprise_train_test_split(data_surprise, test_size=0.2, random_state=42)"
   ]
  },
  {
   "cell_type": "code",
   "execution_count": 76,
   "id": "891d4bd1-2abf-4cd7-829f-7008eac7414f",
   "metadata": {},
   "outputs": [
    {
     "name": "stdout",
     "output_type": "stream",
     "text": [
      "Training the recommendation system using SVD...\n"
     ]
    },
    {
     "data": {
      "text/plain": [
       "<surprise.prediction_algorithms.matrix_factorization.SVD at 0x310512c90>"
      ]
     },
     "execution_count": 76,
     "metadata": {},
     "output_type": "execute_result"
    }
   ],
   "source": [
    "# Step 4: Train a recommendation system (SVD)\n",
    "print(\"Training the recommendation system using SVD...\")\n",
    "model = SVD()\n",
    "model.fit(trainset)"
   ]
  },
  {
   "cell_type": "code",
   "execution_count": 78,
   "id": "2975658a-7b97-4757-96aa-2ad15a8a20a3",
   "metadata": {},
   "outputs": [
    {
     "name": "stdout",
     "output_type": "stream",
     "text": [
      "Evaluating the model...\n",
      "Root Mean Squared Error (RMSE): 1.0\n"
     ]
    },
    {
     "name": "stderr",
     "output_type": "stream",
     "text": [
      "/opt/anaconda3/lib/python3.12/site-packages/sklearn/metrics/_regression.py:492: FutureWarning: 'squared' is deprecated in version 1.4 and will be removed in 1.6. To calculate the root mean squared error, use the function'root_mean_squared_error'.\n",
      "  warnings.warn(\n"
     ]
    }
   ],
   "source": [
    "# Step 5: Evaluate the system\n",
    "print(\"Evaluating the model...\")\n",
    "predictions = model.test(testset)\n",
    "rmse = mean_squared_error([pred.r_ui for pred in predictions], [pred.est for pred in predictions], squared=False)\n",
    "print(f\"Root Mean Squared Error (RMSE): {rmse}\")"
   ]
  },
  {
   "cell_type": "code",
   "execution_count": 80,
   "id": "ce8df469-1373-4d85-9f77-1f18ee94c6f4",
   "metadata": {},
   "outputs": [],
   "source": [
    "# Step 6: Make predictions for recommendations\n",
    "def recommend_movies(user_id, num_recommendations=5):\n",
    "    \"\"\"Recommend top N movies for a given user.\"\"\"\n",
    "    all_movies = data['movieId'].unique()\n",
    "    rated_movies = data[data['userId'] == user_id]['movieId'].unique()\n",
    "    unrated_movies = [movie for movie in all_movies if movie not in rated_movies]\n",
    "\n",
    "    predictions = [\n",
    "        (movie, model.predict(user_id, movie).est) for movie in unrated_movies\n",
    "    ]\n",
    "    predictions.sort(key=lambda x: x[1], reverse=True)\n",
    "\n",
    "    recommended_movies = pd.DataFrame(predictions[:num_recommendations], columns=['movieId', 'predicted_rating'])\n",
    "    recommended_movies = recommended_movies.merge(movies, on='movieId')\n",
    "    return recommended_movies[['title', 'genres', 'predicted_rating']]"
   ]
  },
  {
   "cell_type": "code",
   "execution_count": 82,
   "id": "6d9abd9c-fd7c-4f13-89c0-53723119942f",
   "metadata": {},
   "outputs": [
    {
     "name": "stdout",
     "output_type": "stream",
     "text": [
      "Top 5 movie recommendations for User 1:\n",
      "              title                     genres  predicted_rating\n",
      "0  GoldenEye (1995)  Action|Adventure|Thriller          4.011588\n"
     ]
    }
   ],
   "source": [
    "# Example: Recommend movies for a user\n",
    "user_id = 1\n",
    "print(f\"Top 5 movie recommendations for User {user_id}:\")\n",
    "recommendations = recommend_movies(user_id, num_recommendations=5)\n",
    "print(recommendations)"
   ]
  },
  {
   "cell_type": "code",
   "execution_count": null,
   "id": "37b4e0d3-f758-419a-839a-9755a0c2a999",
   "metadata": {},
   "outputs": [],
   "source": []
  }
 ],
 "metadata": {
  "kernelspec": {
   "display_name": "Python 3 (ipykernel)",
   "language": "python",
   "name": "python3"
  },
  "language_info": {
   "codemirror_mode": {
    "name": "ipython",
    "version": 3
   },
   "file_extension": ".py",
   "mimetype": "text/x-python",
   "name": "python",
   "nbconvert_exporter": "python",
   "pygments_lexer": "ipython3",
   "version": "3.12.2"
  }
 },
 "nbformat": 4,
 "nbformat_minor": 5
}
